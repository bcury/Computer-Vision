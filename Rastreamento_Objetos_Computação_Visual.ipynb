{
  "nbformat": 4,
  "nbformat_minor": 0,
  "metadata": {
    "colab": {
      "name": "Rastreamento_Objetos_Computação_Visual",
      "provenance": [],
      "collapsed_sections": [],
      "authorship_tag": "ABX9TyNgBuU6fm8Un9oKQNWRFLTv",
      "include_colab_link": true
    },
    "kernelspec": {
      "name": "python3",
      "display_name": "Python 3"
    },
    "language_info": {
      "name": "python"
    }
  },
  "cells": [
    {
      "cell_type": "markdown",
      "metadata": {
        "id": "view-in-github",
        "colab_type": "text"
      },
      "source": [
        "<a href=\"https://colab.research.google.com/github/bcury/Vision_Computing/blob/main/Rastreamento_Objetos_Computa%C3%A7%C3%A3o_Visual.ipynb\" target=\"_parent\"><img src=\"https://colab.research.google.com/assets/colab-badge.svg\" alt=\"Open In Colab\"/></a>"
      ]
    },
    {
      "cell_type": "markdown",
      "metadata": {
        "id": "vhsL8PEfOI2M"
      },
      "source": [
        "algoritimos KCF e CSRT"
      ]
    },
    {
      "cell_type": "markdown",
      "metadata": {
        "id": "5PX49RZSOjP5"
      },
      "source": [
        "PYcharm"
      ]
    },
    {
      "cell_type": "code",
      "metadata": {
        "id": "Y9RDwGRGU99W"
      },
      "source": [
        "import cv2\n",
        "\n",
        "#tracker = cv2.TrackerKCF_create()\n",
        "tracker = cv2.TrackerCSRT_create()\n",
        "\n",
        "video = cv2.VideoCapture('street.mp4')\n",
        "ok, frame = video.read()\n",
        "\n",
        "bbox = cv2.selectROI(frame)\n",
        "#print(bbox)\n",
        "\n",
        "ok = tracker.init(frame, bbox)\n",
        "#print(ok)\n",
        "\n",
        "while True:\n",
        "    ok, frame = video.read()\n",
        "    #print(ok)\n",
        "    if not ok:\n",
        "        break\n",
        "    ok, bbox = tracker.update(frame)\n",
        "    #print(bbox)\n",
        "    #print(ok)\n",
        "\n",
        "    if ok:\n",
        "        (x, y, w, h) = [int(v) for v in bbox]\n",
        "        cv2.rectangle(frame, (x, y), (x + w, y + h), (0,255,0), 2, 1)\n",
        "    else:\n",
        "        cv2.putText(frame, 'Error', (100, 80), cv2.FONT_HERSHEY_SIMPLEX, 1, (0,0,255), 2)\n",
        "\n",
        "    cv2.imshow('Tracking', frame)\n",
        "    if cv2.waitKey(1) & 0XFF == 27: # ESC\n",
        "        break\n"
      ],
      "execution_count": null,
      "outputs": []
    },
    {
      "cell_type": "code",
      "metadata": {
        "id": "2ayAI1-EU-lZ"
      },
      "source": [
        ""
      ],
      "execution_count": null,
      "outputs": []
    }
  ]
}