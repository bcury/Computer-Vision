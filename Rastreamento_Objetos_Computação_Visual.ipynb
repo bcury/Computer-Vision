{
  "nbformat": 4,
  "nbformat_minor": 0,
  "metadata": {
    "colab": {
      "name": "Rastreamento_Objetos_Computação_Visual",
      "provenance": [],
      "collapsed_sections": [],
      "authorship_tag": "ABX9TyNo1h4gY4af9pIg7QtzIlyb",
      "include_colab_link": true
    },
    "kernelspec": {
      "name": "python3",
      "display_name": "Python 3"
    },
    "language_info": {
      "name": "python"
    }
  },
  "cells": [
    {
      "cell_type": "markdown",
      "metadata": {
        "id": "view-in-github",
        "colab_type": "text"
      },
      "source": [
        "<a href=\"https://colab.research.google.com/github/bcury/Vision_Computing/blob/main/Rastreamento_Objetos_Computa%C3%A7%C3%A3o_Visual.ipynb\" target=\"_parent\"><img src=\"https://colab.research.google.com/assets/colab-badge.svg\" alt=\"Open In Colab\"/></a>"
      ]
    },
    {
      "cell_type": "markdown",
      "metadata": {
        "id": "vhsL8PEfOI2M"
      },
      "source": [
        "algoritimos KCF e CSRT"
      ]
    },
    {
      "cell_type": "markdown",
      "metadata": {
        "id": "5PX49RZSOjP5"
      },
      "source": [
        "Implementação sendo feita via Pycharm..... em breve!!"
      ]
    },
    {
      "cell_type": "code",
      "metadata": {
        "id": "q7AYoyCvOpMz"
      },
      "source": [
        ""
      ],
      "execution_count": null,
      "outputs": []
    }
  ]
}